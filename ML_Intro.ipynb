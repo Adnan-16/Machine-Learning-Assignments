{
  "nbformat": 4,
  "nbformat_minor": 0,
  "metadata": {
    "colab": {
      "provenance": []
    },
    "kernelspec": {
      "name": "python3",
      "display_name": "Python 3"
    },
    "language_info": {
      "name": "python"
    }
  },
  "cells": [
    {
      "cell_type": "markdown",
      "source": [
        "#1) Explain the differences between AI, ML, Deep Learning(DL), and Data Science(DS).\n",
        "  - AI makes machines mimic human intelligence.\n",
        "  - ML let machines learn from data without being explicity programmed.\n",
        "  - Deep Learning(DL) use neural networks ( especially deep ones ) to model complex patterns.\n",
        "  - Data Science extract insights from data using statistics, ML,and domain knowledge.\n",
        "     - So, AI is the goal, ML is a method to achieve AI, DL is powerful ML technique and Data Science uses all these tools to understand and use data effectively.\n",
        "\n",
        "\n",
        "\n",
        "#2) What are the types of machine learning ? Describe each with one real-world examples.\n",
        "  - There are four types of machine learning:-\n",
        "     - Supervised learning learns from labeled data (input-output pairs ). Example- Email spam detection.\n",
        "     - Unsupervised learning learns from unlabeled data( no predefined output). Example- Customer segmentation in marketing.\n",
        "     - Semi-Supervised learning learns from a small amount of labeled data + a large amount of unlabeled data. Example- Medical image Classification (few labeled scans, many unlabeled).\n",
        "     - Reinforcement learning learns by interacting with an environment and getting feedback ( rewards or penalities ). Example- Self-driving cars learning to navigate.\n",
        "\n",
        "\n",
        "\n",
        "\n",
        "#3) Define overfitting, underfitting and bias-variance tradeoff in machine learning.\n",
        "  - Overfitting: The model learns the training data too well, including noise and details, leading to poor performance on new, unseen data.\n",
        "  - Underfitting: The model is too simple to capture the underlying patterns in the data, resulting in poor performance on both training and test data.\n",
        "  - Bias-Variance tradeoff: It's the balance between bias( error from wrong assumptions ) and variance( error from sensitivity to training data).\n",
        "\n",
        "\n",
        "\n",
        "\n",
        "\n",
        "#4) What are outliers in a dataset, and list three common techniques for handling them.\n",
        "  - Outliers are data points that are significantly different from the majority of the data.\n",
        "  - Three common techniques for handling them:\n",
        "     - Dropping the outliers\n",
        "     - Replacement with mean and median\n",
        "     - Capping\n",
        "\n",
        "\n",
        "\n",
        "\n",
        "#5) Explain the process of handling missing values and mention one imputation technique for numerical and one for categorical data.\n",
        "  - The process of handling missing values involves identification of missing values, understanding the cause, choosing a strategy and implementation. Imputation technique for numerical data is mean and for categorical data is mode."
      ],
      "metadata": {
        "id": "1U--OhdzPZc_"
      }
    },
    {
      "cell_type": "code",
      "source": [
        "#6) Write a Python program that:\n",
        "\"\"\" - Creates a synthetic imbalanced dartaset with make_classification() from sklearn.datasets.\n",
        "    - Prints the distribution.\"\"\"\n",
        "\n",
        "\n",
        "import numpy as np\n",
        "from sklearn.datasets import make_classification\n",
        "\n",
        "\n",
        "x,y= make_classification(n_samples=1000,n_features=4, n_clusters_per_class=2, weights=[0.8, 0.2], random_state=42)\n",
        "\n",
        "class_counts=np.bincount(y)\n",
        "class_distribution= {f\"class {i}\":count for i, count in enumerate(class_counts)}\n",
        "\n",
        "print(\"class distribution\")\n",
        "for class_name, count in class_distribution.items():\n",
        "  print(f\"{class_name}: {count} samples ({count/len(y)*100: .1f}%)\")"
      ],
      "metadata": {
        "colab": {
          "base_uri": "https://localhost:8080/"
        },
        "id": "EI5iaYhT5N8D",
        "outputId": "fff18aa2-ea8f-4a6c-e1b1-4a47951efc20"
      },
      "execution_count": 3,
      "outputs": [
        {
          "output_type": "stream",
          "name": "stdout",
          "text": [
            "class distribution\n",
            "class 0: 795 samples ( 79.5%)\n",
            "class 1: 205 samples ( 20.5%)\n"
          ]
        }
      ]
    },
    {
      "cell_type": "code",
      "source": [
        "#7) Implement one-hot encoding using pandas for the following list of colors: ['Red','Green','Blue','Green','Red']. Print the resulting dataframe.\n",
        "\n",
        "import pandas as pd\n",
        "from sklearn.preprocessing import OneHotEncoder\n",
        "\n",
        "df=pd.DataFrame({\"colors\":['Red','Green','Blue','Green','Red']})\n",
        "encoder=OneHotEncoder()\n",
        "\n",
        "encoded =encoder.fit_transform(df[[\"colors\"]]).toarray()\n",
        "encoder.get_feature_names_out()\n",
        "encoder_df=pd.DataFrame(encoded,columns=encoder.get_feature_names_out())\n",
        "print(encoder_df)"
      ],
      "metadata": {
        "colab": {
          "base_uri": "https://localhost:8080/"
        },
        "id": "vYTo-4us9tHM",
        "outputId": "90d54d00-e5e5-4686-f513-fc44bd40cb0a"
      },
      "execution_count": null,
      "outputs": [
        {
          "output_type": "stream",
          "name": "stdout",
          "text": [
            "   colors_Blue  colors_Green  colors_Red\n",
            "0          0.0           0.0         1.0\n",
            "1          0.0           1.0         0.0\n",
            "2          1.0           0.0         0.0\n",
            "3          0.0           1.0         0.0\n",
            "4          0.0           0.0         1.0\n"
          ]
        }
      ]
    },
    {
      "cell_type": "code",
      "source": [
        "#8) Write a Python script to:\n",
        "\"\"\" - Generate 1000 samples from a normal distribution.\n",
        "    - Introduce 50 random missing values.\n",
        "    - Fill missing values with the column mean.\n",
        "    - Plot a histogram before and after imputation.\"\"\"\n",
        "\n",
        "\n",
        "\n",
        "\n",
        "import numpy as np\n",
        "import pandas as pd\n",
        "import matplotlib.pyplot as plt\n",
        "\n",
        "data=np.random.normal(loc=0,scale=1,size=1000)\n",
        "data_with_missing=data.copy()\n",
        "\n",
        "missing_indices=np.random.choice(len(data_with_missing), size=50,replace=False)\n",
        "data_with_missing[missing_indices]=np.nan\n",
        "df=pd.Series(data_with_missing)\n",
        "\n",
        "plt.figure(figsize=(10,5))\n",
        "plt.subplot(1,2,1)\n",
        "plt.hist(df.dropna(), bins=30,color=\"blue\")\n",
        "plt.title(\"histogram before imputation\")\n",
        "plt.xlabel(\"value\")\n",
        "plt.ylabel(\"frequency\")\n",
        "\n",
        "df_imputed=df.fillna(df.mean())\n",
        "\n",
        "plt.subplot(1,2,2)\n",
        "plt.hist(df_imputed, bins=30,color=\"green\")\n",
        "plt.title(\"histogram after imputation\")\n",
        "plt.xlabel(\"value\")\n",
        "plt.ylabel(\"frequency\")\n",
        "plt.legend()\n",
        "plt.show()\n"
      ],
      "metadata": {
        "colab": {
          "base_uri": "https://localhost:8080/",
          "height": 542
        },
        "id": "0Eq6emhcHfD9",
        "outputId": "2761c9b1-ed2c-40f0-c7c2-dbeba72d304a"
      },
      "execution_count": 5,
      "outputs": [
        {
          "output_type": "stream",
          "name": "stderr",
          "text": [
            "/tmp/ipython-input-3302479101.py:35: UserWarning: No artists with labels found to put in legend.  Note that artists whose label start with an underscore are ignored when legend() is called with no argument.\n",
            "  plt.legend()\n"
          ]
        },
        {
          "output_type": "display_data",
          "data": {
            "text/plain": [
              "<Figure size 1000x500 with 2 Axes>"
            ],
            "image/png": "[encoded data removed]"
          },
          "metadata": {}
        }
      ]
    },
    {
      "cell_type": "code",
      "source": [
        "#9) Implement Min-Max scaling on the following list of numbers [2,5,10,15,28] using sklearn.preprocessing.MinMaxScaler. Print the scaled array.\n",
        "\n",
        "import numpy as np\n",
        "from sklearn.preprocessing import MinMaxScaler\n",
        "\n",
        "num=[2,5,10,15,28]\n",
        "num_array=np.array(num).reshape(-1,1)\n",
        "\n",
        "scaler=MinMaxScaler()\n",
        "scaled_num= scaler.fit_transform(num_array)\n",
        "\n",
        "print(\"scaled array:\")\n",
        "print(scaled_num.flatten())\n"
      ],
      "metadata": {
        "colab": {
          "base_uri": "https://localhost:8080/"
        },
        "id": "dRzCssnBDRH5",
        "outputId": "262a84a8-44c6-40e0-f761-dec085d8660a"
      },
      "execution_count": 6,
      "outputs": [
        {
          "output_type": "stream",
          "name": "stdout",
          "text": [
            "scaled array:\n",
            "[0.         0.11538462 0.30769231 0.5        1.        ]\n"
          ]
        }
      ]
    },
    {
      "cell_type": "code",
      "source": [
        "#10) You are working as a data scientist for a retail company. You recieve a customer transaction dataset that contains:\n",
        "\"\"\" - Missing ages.\n",
        "    - Outliers in transaction amount.\n",
        "    - A highly imbalanced target (fraud vs non-fraud).\n",
        "    - Categorical variables like payment method.\n",
        "Explain the step-by-step data preparation plan you'd follow before training a machine learning model include how you'd address missing data, outliers, imbalance and encoding.\"\"\"\n",
        "\n",
        "\n",
        "\n",
        "\n",
        "import numpy as np\n",
        "import pandas as pd\n",
        "from sklearn.datasets import make_classification\n",
        "from sklearn.preprocessing import StandardScaler\n",
        "from sklearn.impute import SimpleImputer\n",
        "from imblearn.over_sampling import SMOTE\n",
        "import matplotlib.pyplot as plt\n",
        "\n",
        "np.random.seed(42)\n",
        "\n",
        "x,y= make_classification( n_samples=1000, n_features=2, n_informative=2, n_redundant=0, n_repeated=0, n_classes=2, weights=[0.9,0.1],random_state=42)\n",
        "\n",
        "df=pd.DataFrame(x,columns=[\"age\",\"transaction_amount\"])\n",
        "df[\"fraud\"]=y\n",
        "\n",
        "df[\"payment_method\"]=np.random.choice([\"credit\",\"debit\",\"cash\"],size=1000, p=[0.5,0.3,0.2])\n",
        "\n",
        "missing_values= np.random.choice(1000, size=100, replace=False)\n",
        "df.loc[missing_values, \"age\"]=np.nan\n",
        "\n",
        "outlier_data=np.random.choice(1000, size=20, replace=False)\n",
        "df.loc[outlier_data,\"transaction_amount\"]*=10\n",
        "\n",
        "\n",
        "print(\"initial class distribution\")\n",
        "print(df[\"fraud\"].value_counts(normalize=True))\n",
        "print(\"\\missing values:\")\n",
        "print(df.isnull().sum())\n",
        "\n",
        "imputer=SimpleImputer(strategy=\"median\")\n",
        "df[\"age\"]=imputer.fit_transform(df[[\"age\"]])\n",
        "\n",
        "Q1,Q3=df[\"transaction_amount\"].quantile([0.05,0.95])\n",
        "df[\"transaction_amount\"]=df[\"transaction_amount\"].clip(lower=Q1,upper=Q3)\n",
        "\n",
        "df=pd.get_dummies(df,columns=[\"payment_method\"],prefix=\"payment\")\n",
        "\n",
        "smote=SMOTE(random_state=42)\n",
        "x_resampled, y_resampled=smote.fit_resample(df.drop(\"fraud\",axis=1), df[\"fraud\"])\n",
        "\n",
        "df_resampled=pd.DataFrame(x_resampled, columns=df.drop(\"fraud\",axis=1).columns)\n",
        "df_resampled[\"fraud\"]=y_resampled\n",
        "\n",
        "scaler=StandardScaler()\n",
        "df_resampled[[\"age\",\"transaction_amount\"]]= scaler.fit_transform(df_resampled[[\"age\",\"transaction_amount\"]])\n",
        "\n",
        "print(\"\\final distribution:\")\n",
        "print(df_resampled[\"fraud\"].value_counts(normalize=True))\n",
        "print(\"\\nMissing values after imputation:\")\n",
        "print(df_resampled.isnull().sum())\n",
        "\n",
        "\n",
        "\n",
        "plt.figure(figsize=(10,5))\n",
        "plt.subplot(1,2,1)\n",
        "plt.hist(df[\"transaction_amount\"], bins=30,color=\"blue\")\n",
        "plt.title(\"transaction amount before imputation\")\n",
        "plt.xlabel(\"transaction amount\")\n",
        "plt.ylabel(\"frequency\")\n",
        "\n",
        "plt.subplot(1,2,2)\n",
        "plt.hist(df_resampled[\"transaction_amount\"], bins=30,color=\"green\")\n",
        "plt.title(\"transaction amount after imputation\")\n",
        "plt.xlabel(\"scaled transaction amount\")\n",
        "plt.ylabel(\"frequency\")\n",
        "plt.legend()\n",
        "plt.show()\n"
      ],
      "metadata": {
        "id": "Zxh_abVxFjQA",
        "colab": {
          "base_uri": "https://localhost:8080/",
          "height": 1000
        },
        "outputId": "e2b73c2b-de1f-4b92-9849-89e44e608b6a"
      },
      "execution_count": 10,
      "outputs": [
        {
          "output_type": "stream",
          "name": "stderr",
          "text": [
            "<>:37: SyntaxWarning: invalid escape sequence '\\m'\n",
            "<>:37: SyntaxWarning: invalid escape sequence '\\m'\n",
            "/tmp/ipython-input-368264692.py:37: SyntaxWarning: invalid escape sequence '\\m'\n",
            "  print(\"\\missing values:\")\n",
            "/tmp/ipython-input-368264692.py:76: UserWarning: No artists with labels found to put in legend.  Note that artists whose label start with an underscore are ignored when legend() is called with no argument.\n",
            "  plt.legend()\n"
          ]
        },
        {
          "output_type": "stream",
          "name": "stdout",
          "text": [
            "initial class distribution\n",
            "fraud\n",
            "0    0.894\n",
            "1    0.106\n",
            "Name: proportion, dtype: float64\n",
            "\\missing values:\n",
            "age                   100\n",
            "transaction_amount      0\n",
            "fraud                   0\n",
            "payment_method          0\n",
            "dtype: int64\n",
            "\final distribution:\n",
            "fraud\n",
            "0    0.5\n",
            "1    0.5\n",
            "Name: proportion, dtype: float64\n",
            "\n",
            "Missing values after imputation:\n",
            "age                   0\n",
            "transaction_amount    0\n",
            "payment_cash          0\n",
            "payment_credit        0\n",
            "payment_debit         0\n",
            "fraud                 0\n",
            "dtype: int64\n"
          ]
        },
        {
          "output_type": "display_data",
          "data": {
            "text/plain": [
              "<Figure size 1000x500 with 2 Axes>"
            ],
            "image/png": "[encoded data removed]"
          },
          "metadata": {}
        }
      ]
    }
  ]
}